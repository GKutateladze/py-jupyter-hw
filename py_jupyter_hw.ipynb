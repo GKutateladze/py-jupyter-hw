{
 "cells": [
  {
   "cell_type": "code",
   "execution_count": 30,
   "metadata": {},
   "outputs": [
    {
     "name": "stdout",
     "output_type": "stream",
     "text": [
      "['James' 'John' 'Robert']\n"
     ]
    }
   ],
   "source": [
    "import pandas as pd\n",
    "import os\n",
    "\n",
    "def common_name(year):\n",
    "    data_path = f'{os.getcwd()}\\\\names\\\\'\n",
    "    names = pd.read_csv(data_path + 'yob' + str(year) + '.txt', names=['name', 'gender', 'count'])\n",
    "    return names\n",
    "\n",
    "def most_common_name(years_list):\n",
    "    data = list(map(common_name, years_list))\n",
    "    data = pd.concat(data)\n",
    "    data = (data.groupby('name').sum())\n",
    "    most_common_name = data.sort_values(by=['count'], ascending=False).head(3)\n",
    "    return most_common_name.reset_index()['name'].values\n",
    "\n",
    "years = [1900, 1950, 2000]\n",
    "print(most_common_name(years))"
   ]
  },
  {
   "cell_type": "code",
   "execution_count": 69,
   "metadata": {},
   "outputs": [
    {
     "data": {
      "text/html": [
       "<div>\n",
       "<style scoped>\n",
       "    .dataframe tbody tr th:only-of-type {\n",
       "        vertical-align: middle;\n",
       "    }\n",
       "\n",
       "    .dataframe tbody tr th {\n",
       "        vertical-align: top;\n",
       "    }\n",
       "\n",
       "    .dataframe thead th {\n",
       "        text-align: right;\n",
       "    }\n",
       "</style>\n",
       "<table border=\"1\" class=\"dataframe\">\n",
       "  <thead>\n",
       "    <tr style=\"text-align: right;\">\n",
       "      <th></th>\n",
       "      <th>Female</th>\n",
       "      <th>Male</th>\n",
       "    </tr>\n",
       "  </thead>\n",
       "  <tbody>\n",
       "    <tr>\n",
       "      <th>1900</th>\n",
       "      <td>299810</td>\n",
       "      <td>150486</td>\n",
       "    </tr>\n",
       "    <tr>\n",
       "      <th>1950</th>\n",
       "      <td>1713259</td>\n",
       "      <td>1790871</td>\n",
       "    </tr>\n",
       "    <tr>\n",
       "      <th>2000</th>\n",
       "      <td>1814922</td>\n",
       "      <td>1962744</td>\n",
       "    </tr>\n",
       "  </tbody>\n",
       "</table>\n",
       "</div>"
      ],
      "text/plain": [
       "       Female     Male\n",
       "1900   299810   150486\n",
       "1950  1713259  1790871\n",
       "2000  1814922  1962744"
      ]
     },
     "execution_count": 69,
     "metadata": {},
     "output_type": "execute_result"
    }
   ],
   "source": [
    "import pandas as pd\n",
    "import os\n",
    "\n",
    "def name_count(year):\n",
    "    data_path = f'{os.getcwd()}\\\\names\\\\'\n",
    "    names = pd.read_csv(data_path + 'yob' + str(year) + '.txt', names=['name', 'gender', 'count'])\n",
    "    return [names[names.gender == 'F']['count'].sum(), names[names.gender == 'M']['count'].sum()]\n",
    "\n",
    "def name_dynamics(year_list):\n",
    "    data = list(map(name_count, year_list))\n",
    "    dynamics = pd.DataFrame(data, index = year_list)\n",
    "    dynamics.columns = ['Female', 'Male']\n",
    "    return dynamics\n",
    "\n",
    "years = [1900, 1950, 2000]\n",
    "name_dynamics(years)"
   ]
  }
 ],
 "metadata": {
  "kernelspec": {
   "display_name": "Python 3",
   "language": "python",
   "name": "python3"
  },
  "language_info": {
   "codemirror_mode": {
    "name": "ipython",
    "version": 3
   },
   "file_extension": ".py",
   "mimetype": "text/x-python",
   "name": "python",
   "nbconvert_exporter": "python",
   "pygments_lexer": "ipython3",
   "version": "3.6.5rc1"
  }
 },
 "nbformat": 4,
 "nbformat_minor": 2
}
