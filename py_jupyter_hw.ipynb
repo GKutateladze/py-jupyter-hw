{
 "cells": [
  {
   "cell_type": "code",
   "execution_count": 47,
   "metadata": {},
   "outputs": [
    {
     "name": "stdout",
     "output_type": "stream",
     "text": [
      "['James' 'John' 'Robert']\n"
     ]
    }
   ],
   "source": [
    "import pandas as pd\n",
    "import os\n",
    "\n",
    "def common_name(year):\n",
    "    data_path = f'{os.getcwd()}\\\\names\\\\'\n",
    "    names = pd.read_csv(data_path + 'yob' + str(year) + '.txt', names=['name', 'gender', 'count'])\n",
    "    return names\n",
    "\n",
    "def most_common_name(years_list):\n",
    "    data = list(map(common_name, years_list))\n",
    "    data = pd.concat(data)\n",
    "    data = (data.groupby('name').sum())\n",
    "    most_common_name = data.sort_values(by=['count'], ascending=False).head(3)\n",
    "    return most_common_name.reset_index()['name'].values\n",
    "\n",
    "years = [1900, 1950, 2000]\n",
    "print(most_common_name(years))"
   ]
  }
 ],
 "metadata": {
  "kernelspec": {
   "display_name": "Python 3",
   "language": "python",
   "name": "python3"
  },
  "language_info": {
   "codemirror_mode": {
    "name": "ipython",
    "version": 3
   },
   "file_extension": ".py",
   "mimetype": "text/x-python",
   "name": "python",
   "nbconvert_exporter": "python",
   "pygments_lexer": "ipython3",
   "version": "3.6.5rc1"
  }
 },
 "nbformat": 4,
 "nbformat_minor": 2
}
